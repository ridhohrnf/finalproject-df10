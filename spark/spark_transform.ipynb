{
  "cells": [
    {
      "cell_type": "code",
      "execution_count": 1,
      "metadata": {
        "id": "LikY5y2MMbji"
      },
      "outputs": [],
      "source": [
        "import sys\n",
        "import pyspark\n",
        "from pyspark.sql import SparkSession\n",
        "from pyspark.sql import functions as F\n",
        "from pyspark.sql.types import IntegerType, TimestampType\n",
        "\n",
        "\n",
        "import pandas as pd\n",
        "import numpy as np"
      ]
    },
    {
      "cell_type": "code",
      "execution_count": 2,
      "metadata": {
        "id": "U8KEEYfrmY-4"
      },
      "outputs": [],
      "source": [
        "spark = SparkSession.builder \\\n",
        "    .master(\"local[*]\") \\\n",
        "    .config(\"spark.sql.repl.eagerEval.enabled\", \"true\") \\\n",
        "    .appName('test') \\\n",
        "    .getOrCreate()"
      ]
    },
    {
      "cell_type": "code",
      "execution_count": 3,
      "metadata": {
        "id": "zGIY4BwKJ4Bw"
      },
      "outputs": [],
      "source": [
        "df = spark.read.parquet('/opt/airflow/datasets/online_payment.parquet', header=True)"
      ]
    },
    {
      "cell_type": "code",
      "execution_count": 4,
      "metadata": {
        "colab": {
          "base_uri": "https://localhost:8080/"
        },
        "id": "IMN_qC0_KR3e",
        "outputId": "17f23105-6b54-4fc6-abb9-ff83a2c6c9e3"
      },
      "outputs": [
        {
          "name": "stdout",
          "output_type": "stream",
          "text": [
            "root\n",
            " |-- step: string (nullable = true)\n",
            " |-- type: string (nullable = true)\n",
            " |-- amount: string (nullable = true)\n",
            " |-- nameOrig: string (nullable = true)\n",
            " |-- oldbalanceOrg: string (nullable = true)\n",
            " |-- newbalanceOrig: string (nullable = true)\n",
            " |-- nameDest: string (nullable = true)\n",
            " |-- oldbalanceDest: string (nullable = true)\n",
            " |-- newbalanceDest: string (nullable = true)\n",
            " |-- isFraud: string (nullable = true)\n",
            " |-- isFlaggedFraud: string (nullable = true)\n",
            "\n"
          ]
        }
      ],
      "source": [
        "df.printSchema()"
      ]
    },
    {
      "cell_type": "code",
      "execution_count": 5,
      "metadata": {
        "colab": {
          "base_uri": "https://localhost:8080/"
        },
        "id": "bIeJ4-Na8n8-",
        "outputId": "a9dba618-d0ce-4bc0-84f6-d1fd48dc3bcb"
      },
      "outputs": [],
      "source": [
        "# Cast \"step\" column to IntegerType\n",
        "df = df.withColumn(\"step\", df[\"step\"].cast(IntegerType()))\n",
        "\n",
        "# start time (misalnya: '2023-07-01 00:00:00')\n",
        "start_time = \"2023-07-01 00:00:00\"\n",
        "\n",
        "# Convert \"start_time\" to TimestampType using F.lit()\n",
        "start_time = F.lit(start_time).cast(TimestampType())\n",
        "\n",
        "# convert step to timestamp\n",
        "df = df.withColumn(\"timestamp\", start_time + (F.col(\"step\")) * F.expr(\"INTERVAL 1 HOUR\"))\n",
        "\n",
        "# create column date from timestamp\n",
        "df = df.withColumn(\"date\", F.date_format(\"timestamp\", \"yyyy-MM-dd\"))"
      ]
    },
    {
      "cell_type": "code",
      "execution_count": 6,
      "metadata": {},
      "outputs": [
        {
          "name": "stdout",
          "output_type": "stream",
          "text": [
            "+----+--------+---------+-----------+-------------+--------------+-----------+--------------+--------------+-------+--------------+-------------------+----------+\n",
            "|step|    type|   amount|   nameOrig|oldbalanceOrg|newbalanceOrig|   nameDest|oldbalanceDest|newbalanceDest|isFraud|isFlaggedFraud|          timestamp|      date|\n",
            "+----+--------+---------+-----------+-------------+--------------+-----------+--------------+--------------+-------+--------------+-------------------+----------+\n",
            "|   1| PAYMENT|  9839.64|C1231006815|     170136.0|     160296.36|M1979787155|           0.0|           0.0|      0|             0|2023-07-01 01:00:00|2023-07-01|\n",
            "|   1| PAYMENT|  1864.28|C1666544295|      21249.0|      19384.72|M2044282225|           0.0|           0.0|      0|             0|2023-07-01 01:00:00|2023-07-01|\n",
            "|   1|TRANSFER|    181.0|C1305486145|        181.0|           0.0| C553264065|           0.0|           0.0|      1|             0|2023-07-01 01:00:00|2023-07-01|\n",
            "|   1|CASH_OUT|    181.0| C840083671|        181.0|           0.0|  C38997010|       21182.0|           0.0|      1|             0|2023-07-01 01:00:00|2023-07-01|\n",
            "|   1| PAYMENT| 11668.14|C2048537720|      41554.0|      29885.86|M1230701703|           0.0|           0.0|      0|             0|2023-07-01 01:00:00|2023-07-01|\n",
            "|   1| PAYMENT|  7817.71|  C90045638|      53860.0|      46042.29| M573487274|           0.0|           0.0|      0|             0|2023-07-01 01:00:00|2023-07-01|\n",
            "|   1| PAYMENT|  7107.77| C154988899|     183195.0|     176087.23| M408069119|           0.0|           0.0|      0|             0|2023-07-01 01:00:00|2023-07-01|\n",
            "|   1| PAYMENT|  7861.64|C1912850431|    176087.23|     168225.59| M633326333|           0.0|           0.0|      0|             0|2023-07-01 01:00:00|2023-07-01|\n",
            "|   1| PAYMENT|  4024.36|C1265012928|       2671.0|           0.0|M1176932104|           0.0|           0.0|      0|             0|2023-07-01 01:00:00|2023-07-01|\n",
            "|   1|   DEBIT|  5337.77| C712410124|      41720.0|      36382.23| C195600860|       41898.0|      40348.79|      0|             0|2023-07-01 01:00:00|2023-07-01|\n",
            "|   1|   DEBIT|  9644.94|C1900366749|       4465.0|           0.0| C997608398|       10845.0|     157982.12|      0|             0|2023-07-01 01:00:00|2023-07-01|\n",
            "|   1| PAYMENT|  3099.97| C249177573|      20771.0|      17671.03|M2096539129|           0.0|           0.0|      0|             0|2023-07-01 01:00:00|2023-07-01|\n",
            "|   1| PAYMENT|  2560.74|C1648232591|       5070.0|       2509.26| M972865270|           0.0|           0.0|      0|             0|2023-07-01 01:00:00|2023-07-01|\n",
            "|   1| PAYMENT| 11633.76|C1716932897|      10127.0|           0.0| M801569151|           0.0|           0.0|      0|             0|2023-07-01 01:00:00|2023-07-01|\n",
            "|   1| PAYMENT|  4098.78|C1026483832|     503264.0|     499165.22|M1635378213|           0.0|           0.0|      0|             0|2023-07-01 01:00:00|2023-07-01|\n",
            "|   1|CASH_OUT|229133.94| C905080434|      15325.0|           0.0| C476402209|        5083.0|      51513.44|      0|             0|2023-07-01 01:00:00|2023-07-01|\n",
            "|   1| PAYMENT|  1563.82| C761750706|        450.0|           0.0|M1731217984|           0.0|           0.0|      0|             0|2023-07-01 01:00:00|2023-07-01|\n",
            "|   1| PAYMENT|  1157.86|C1237762639|      21156.0|      19998.14|M1877062907|           0.0|           0.0|      0|             0|2023-07-01 01:00:00|2023-07-01|\n",
            "|   1| PAYMENT|   671.64|C2033524545|      15123.0|      14451.36| M473053293|           0.0|           0.0|      0|             0|2023-07-01 01:00:00|2023-07-01|\n",
            "|   1|TRANSFER| 215310.3|C1670993182|        705.0|           0.0|C1100439041|       22425.0|           0.0|      0|             0|2023-07-01 01:00:00|2023-07-01|\n",
            "+----+--------+---------+-----------+-------------+--------------+-----------+--------------+--------------+-------+--------------+-------------------+----------+\n",
            "only showing top 20 rows\n",
            "\n"
          ]
        }
      ],
      "source": [
        "df.show()"
      ]
    },
    {
      "cell_type": "code",
      "execution_count": null,
      "metadata": {},
      "outputs": [],
      "source": [
        "df.write.parquet('/opt/airflow/online_payment.parquet', mode='overwrite')"
      ]
    }
  ],
  "metadata": {
    "colab": {
      "provenance": []
    },
    "kernelspec": {
      "display_name": "Python 3",
      "name": "python3"
    },
    "language_info": {
      "codemirror_mode": {
        "name": "ipython",
        "version": 3
      },
      "file_extension": ".py",
      "mimetype": "text/x-python",
      "name": "python",
      "nbconvert_exporter": "python",
      "pygments_lexer": "ipython3",
      "version": "3.11.1"
    }
  },
  "nbformat": 4,
  "nbformat_minor": 0
}
